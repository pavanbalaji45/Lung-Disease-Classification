{
 "cells": [
  {
   "cell_type": "code",
   "execution_count": 32,
   "id": "97192314",
   "metadata": {},
   "outputs": [
    {
     "name": "stdout",
     "output_type": "stream",
     "text": [
      "Found 9971 images belonging to 6 classes.\n",
      "Epoch 1/3\n",
      "312/312 [==============================] - 93s 282ms/step - loss: 1.0112 - accuracy: 0.6085\n",
      "Epoch 2/3\n",
      "312/312 [==============================] - 87s 278ms/step - loss: 0.6624 - accuracy: 0.7554\n",
      "Epoch 3/3\n",
      "312/312 [==============================] - 86s 276ms/step - loss: 0.5448 - accuracy: 0.7975\n"
     ]
    }
   ],
   "source": [
    "import os\n",
    "import numpy as np\n",
    "from tensorflow.keras.models import Sequential\n",
    "from tensorflow.keras.layers import Conv2D, MaxPooling2D, Flatten, Dense, LSTM, TimeDistributed\n",
    "from tensorflow.keras.preprocessing.image import ImageDataGenerator\n",
    "\n",
    "# Set the path to your dataset\n",
    "train_data_dir = r\"C:\\Users\\asuto\\Desktop\\intern ship 2\\lung detection\\archive\\archive\\train-20230326T152931Z-001\\train\"\n",
    "\n",
    "# Specify image dimensions and batch size\n",
    "img_width, img_height = 150, 150\n",
    "batch_size = 32\n",
    "\n",
    "# Extract class names from the folder names\n",
    "class_names = sorted(os.listdir(train_data_dir))\n",
    "\n",
    "# Create data generator for training data\n",
    "train_datagen = ImageDataGenerator(\n",
    "    rescale=1. / 255,\n",
    "    shear_range=0.2,\n",
    "    zoom_range=0.2,\n",
    "    horizontal_flip=True)\n",
    "\n",
    "train_generator = train_datagen.flow_from_directory(\n",
    "    train_data_dir,\n",
    "    target_size=(img_width, img_height),\n",
    "    batch_size=batch_size,\n",
    "    class_mode='sparse',\n",
    "    shuffle=False)  # Disable shuffling to maintain the order of images\n",
    "\n",
    "# Reshape the input data to include a time dimension\n",
    "X_train_reshaped = []\n",
    "y_train = []\n",
    "\n",
    "for i in range(len(train_generator)):\n",
    "    images, labels = train_generator[i]\n",
    "    for j in range(len(images)):\n",
    "        X_train_reshaped.append(images[j])\n",
    "        y_train.append(labels[j])\n",
    "\n",
    "X_train_reshaped = np.array(X_train_reshaped)\n",
    "y_train = np.array(y_train, dtype=np.int32)\n",
    "\n",
    "# Add a time dimension to the input data\n",
    "X_train_reshaped = np.expand_dims(X_train_reshaped, axis=1)\n",
    "\n",
    "# Define the DBLSTM model\n",
    "model = Sequential()\n",
    "model.add(TimeDistributed(Conv2D(32, (3, 3), activation='relu'), input_shape=(1, img_width, img_height, 3)))\n",
    "model.add(TimeDistributed(MaxPooling2D(pool_size=(2, 2))))\n",
    "model.add(TimeDistributed(Conv2D(64, (3, 3), activation='relu')))\n",
    "model.add(TimeDistributed(MaxPooling2D(pool_size=(2, 2))))\n",
    "model.add(TimeDistributed(Conv2D(128, (3, 3), activation='relu')))\n",
    "model.add(TimeDistributed(MaxPooling2D(pool_size=(2, 2))))\n",
    "model.add(TimeDistributed(Flatten()))\n",
    "model.add(LSTM(128, activation='relu', return_sequences=False))\n",
    "model.add(Dense(len(class_names), activation='softmax'))\n",
    "\n",
    "# Compile the model\n",
    "model.compile(optimizer='adam', loss='sparse_categorical_crossentropy', metrics=['accuracy'])\n",
    "\n",
    "# Train the model\n",
    "model.fit(\n",
    "    X_train_reshaped,\n",
    "    y_train,\n",
    "    batch_size=batch_size,\n",
    "    epochs=3)\n",
    "\n",
    "# Save the trained model\n",
    "model.save('lung_detection_dblstm.h5')"
   ]
  },
  {
   "cell_type": "code",
   "execution_count": 33,
   "id": "91d50a96-6078-424e-8f06-7cefbc5146a8",
   "metadata": {},
   "outputs": [
    {
     "name": "stdout",
     "output_type": "stream",
     "text": [
      "Found 1962 images belonging to 6 classes.\n",
      "62/62 [==============================] - 4s 51ms/step - loss: 0.6771 - accuracy: 0.7548\n",
      "Test loss: 0.6770502924919128\n",
      "Test accuracy: 0.7548419833183289\n"
     ]
    }
   ],
   "source": [
    "# Set the path to your test dataset\n",
    "test_data_dir = r\"C:\\Users\\asuto\\Desktop\\intern ship 2\\lung detection\\archive\\archive\\val-20230326T152503Z-001\\val\"\n",
    "\n",
    "# Create data generator for test data\n",
    "test_datagen = ImageDataGenerator(rescale=1. / 255)\n",
    "\n",
    "test_generator = test_datagen.flow_from_directory(\n",
    "    test_data_dir,\n",
    "    target_size=(img_width, img_height),\n",
    "    batch_size=batch_size,\n",
    "    class_mode='sparse',\n",
    "    shuffle=False)  # Disable shuffling to maintain the order of images\n",
    "\n",
    "# Reshape the input data to include a time dimension\n",
    "X_test_reshaped = []\n",
    "y_test = []\n",
    "\n",
    "for i in range(len(test_generator)):\n",
    "    images, labels = test_generator[i]\n",
    "    for j in range(len(images)):\n",
    "        X_test_reshaped.append(images[j])\n",
    "        y_test.append(labels[j])\n",
    "\n",
    "X_test_reshaped = np.array(X_test_reshaped)\n",
    "y_test = np.array(y_test, dtype=np.int32)\n",
    "\n",
    "# Add a time dimension to the input data\n",
    "X_test_reshaped = np.expand_dims(X_test_reshaped, axis=1)\n",
    "\n",
    "# Load the trained model\n",
    "model = load_model('lung_detection_dblstm.h5')\n",
    "\n",
    "# Evaluate the model on the test data\n",
    "loss, accuracy = model.evaluate(X_test_reshaped, y_test)\n",
    "print(f\"Test loss: {loss}\")\n",
    "print(f\"Test accuracy: {accuracy}\")"
   ]
  },
  {
   "cell_type": "code",
   "execution_count": 35,
   "id": "33f556bd",
   "metadata": {
    "scrolled": true
   },
   "outputs": [
    {
     "name": "stdout",
     "output_type": "stream",
     "text": [
      "1/1 [==============================] - 0s 400ms/step\n",
      "Predicted class: NORMAL\n"
     ]
    }
   ],
   "source": [
    "import os\n",
    "import numpy as np\n",
    "from tensorflow.keras.models import load_model\n",
    "from tensorflow.keras.preprocessing import image\n",
    "\n",
    "# Load the saved model\n",
    "model_path = 'lung_detection_dblstm.h5'\n",
    "loaded_model = load_model(model_path)\n",
    "\n",
    "# Define your custom class names\n",
    "class_names = ['CARDIOMEGALY', 'COVID', 'NORMAL', 'PNEUMONIA', 'PNEUMOTHORAX', 'TUBERCULOSIS']\n",
    "\n",
    "# Path to the image you want to predict\n",
    "image_path = r\"C:\\Users\\asuto\\Desktop\\intern ship 2\\lung detection\\archive\\archive\\val-20230326T152503Z-001\\val\\NORMAL\\00000006_000.png\"\n",
    "\n",
    "# Load and preprocess the image\n",
    "img = image.load_img(image_path, target_size=(150, 150))\n",
    "img_array = image.img_to_array(img)\n",
    "img_array = np.expand_dims(img_array, axis=0)  # Add a batch dimension\n",
    "img_array = np.expand_dims(img_array, axis=1)  # Add a time dimension\n",
    "img_array /= 255.0  # Rescale pixel values to [0, 1]\n",
    "\n",
    "# Make a prediction\n",
    "predictions = loaded_model.predict(img_array)\n",
    "predicted_class = np.argmax(predictions)\n",
    "\n",
    "# Get the predicted class name from the custom class names list\n",
    "predicted_class_name = class_names[predicted_class]\n",
    "\n",
    "# Display the predicted class\n",
    "print(f\"Predicted class: {predicted_class_name}\")"
   ]
  },
  {
   "cell_type": "code",
   "execution_count": null,
   "id": "679a1a57-f585-4d61-a8b2-f3a9c493c489",
   "metadata": {},
   "outputs": [],
   "source": []
  }
 ],
 "metadata": {
  "kernelspec": {
   "display_name": "Python 3 (ipykernel)",
   "language": "python",
   "name": "python3"
  },
  "language_info": {
   "codemirror_mode": {
    "name": "ipython",
    "version": 3
   },
   "file_extension": ".py",
   "mimetype": "text/x-python",
   "name": "python",
   "nbconvert_exporter": "python",
   "pygments_lexer": "ipython3",
   "version": "3.11.7"
  }
 },
 "nbformat": 4,
 "nbformat_minor": 5
}
